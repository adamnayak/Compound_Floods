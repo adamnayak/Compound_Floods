{
 "cells": [
  {
   "cell_type": "code",
   "execution_count": 1,
   "id": "f9e145fe-2a2e-46af-a9f3-069bcdd9e04e",
   "metadata": {
    "scrolled": true
   },
   "outputs": [
    {
     "name": "stderr",
     "output_type": "stream",
     "text": [
      "2024-05-21 02:24:28.973117: I tensorflow/core/util/port.cc:111] oneDNN custom operations are on. You may see slightly different numerical results due to floating-point round-off errors from different computation orders. To turn them off, set the environment variable `TF_ENABLE_ONEDNN_OPTS=0`.\n",
      "2024-05-21 02:24:29.009109: E tensorflow/compiler/xla/stream_executor/cuda/cuda_dnn.cc:9342] Unable to register cuDNN factory: Attempting to register factory for plugin cuDNN when one has already been registered\n",
      "2024-05-21 02:24:29.009130: E tensorflow/compiler/xla/stream_executor/cuda/cuda_fft.cc:609] Unable to register cuFFT factory: Attempting to register factory for plugin cuFFT when one has already been registered\n",
      "2024-05-21 02:24:29.009135: E tensorflow/compiler/xla/stream_executor/cuda/cuda_blas.cc:1518] Unable to register cuBLAS factory: Attempting to register factory for plugin cuBLAS when one has already been registered\n",
      "2024-05-21 02:24:29.014964: I tensorflow/core/platform/cpu_feature_guard.cc:182] This TensorFlow binary is optimized to use available CPU instructions in performance-critical operations.\n",
      "To enable the following instructions: SSE4.1 SSE4.2 AVX AVX2 AVX512F AVX512_VNNI FMA, in other operations, rebuild TensorFlow with the appropriate compiler flags.\n"
     ]
    }
   ],
   "source": [
    "import pandas as pd\n",
    "import numpy as np\n",
    "import time as tm\n",
    "from numpy import RankWarning\n",
    "import math\n",
    "import random\n",
    "import warnings\n",
    "import statsmodels.api as sm\n",
    "from statsmodels.tools.sm_exceptions import ConvergenceWarning\n",
    "from scipy.stats import rankdata\n",
    "import scipy.stats as stats\n",
    "from scipy.stats import genpareto, norm, poisson, expon, gamma\n",
    "from scipy.special import inv_boxcox\n",
    "import matplotlib.pyplot as plt\n",
    "import matplotlib.colors as mcolors\n",
    "import matplotlib.dates as mdates\n",
    "from matplotlib.ticker import LogFormatter \n",
    "from matplotlib.colors import LinearSegmentedColormap\n",
    "from matplotlib.lines import Line2D\n",
    "import seaborn as sns\n",
    "from Trend import *\n",
    "from Wavelet import *\n",
    "from Forecast import *\n",
    "from NS_Cluster import *"
   ]
  },
  {
   "cell_type": "markdown",
   "id": "247b8e20-6f23-4960-9b3d-3371aeb21a5d",
   "metadata": {},
   "source": [
    "# Function Definitions"
   ]
  },
  {
   "cell_type": "code",
   "execution_count": 2,
   "id": "fa1f3593-5132-46fd-aaef-225d707843e1",
   "metadata": {},
   "outputs": [],
   "source": [
    "def plot_annual_max_series(time, time_series, data_type, data_unit, f_100, ann_percentile_95, percentile_50):\n",
    "    \"\"\"\n",
    "    Plots the annual maximum time series and highlights specific statistical thresholds.\n",
    "\n",
    "    Parameters:\n",
    "    - time: The time or year associated with each data point.\n",
    "    - time_series: The values of the time series to plot.\n",
    "    - data_type: The type of data being plotted (e.g., 'Rainfall').\n",
    "    - data_unit: The unit of measurement for the data (e.g., 'mm').\n",
    "    - f_100: The 100-year flood threshold value.\n",
    "    - ann_percentile_95: The 95th percentile value.\n",
    "    - percentile_50: The 50th percentile daily flow value.\n",
    "    \"\"\"\n",
    "    plt.figure(figsize=(10, 6))\n",
    "    plt.plot(time, time_series, marker='o', linestyle='-', color='b')\n",
    "    plt.title(f'Annual Maximum {data_type} Over Years')\n",
    "    plt.xlabel('Year')\n",
    "    plt.ylabel(f'{data_type} {data_unit}')\n",
    "    \n",
    "    # Highlight statistical thresholds\n",
    "    plt.axhline(y=f_100, color='r', linestyle='--', label=f\"100 Year Flood: {f_100:.0f}\")\n",
    "    plt.axhline(y=ann_percentile_95, color='g', linestyle='--', label=f\"95th Percentile: {ann_percentile_95:.0f}\")\n",
    "    plt.axhline(y=percentile_50, color='black', linestyle='--', label=f\"50th Daily Percentile: {percentile_50:.0f}\")\n",
    "    \n",
    "    # Text annotations\n",
    "    plt.text(min(time), f_100, f\"100 Year Flood: {f_100:.0f}\", horizontalalignment='left', verticalalignment='bottom', color='r')\n",
    "    plt.text(min(time), ann_percentile_95, f\"20 Year Flood: {ann_percentile_95:.0f}\", horizontalalignment='left', verticalalignment='bottom', color='g')\n",
    "    plt.text(min(time), percentile_50, f\"50th Percentile Daily Flow: {percentile_50:.0f}\", horizontalalignment='left', verticalalignment='bottom', color='black')\n",
    "    \n",
    "    plt.legend()\n",
    "    plt.show()"
   ]
  },
  {
   "cell_type": "code",
   "execution_count": 3,
   "id": "1d9f1807-4792-4e77-953b-5802acd516b6",
   "metadata": {},
   "outputs": [],
   "source": [
    "def plot_daily_values(df, var_interest, ann_step, base_signal, std_thres, f_100, percentile_50, data_unit):\n",
    "    \"\"\"\n",
    "    Plots daily values against an annual extracted wavelet signal with statistical thresholds.\n",
    "\n",
    "    Parameters:\n",
    "    - df: DataFrame containing the daily data.\n",
    "    - var_interest: String, the column name of interest in 'df'.\n",
    "    - ann_step: DataFrame containing the annual step function data.\n",
    "    - base_signal: Float, the baseline signal value for 'Ann_Signal'.\n",
    "    - std_thres: String or float, standard threshold label for the baseline signal.\n",
    "    - f_100: Float, the 100-year flood threshold value.\n",
    "    - percentile_50: Float, the 50th percentile daily flow value.\n",
    "    - data_unit: String, the unit of measurement for the data (e.g., 'm^3/s').\n",
    "    \"\"\"\n",
    "    plt.figure(figsize=(10, 6))\n",
    "\n",
    "    if std_thres != 'mean':\n",
    "        std_thres = 'median' \n",
    "    \n",
    "    # Plot the daily data\n",
    "    plt.plot(df.index, df[var_interest], label='Daily Values', alpha=0.5)  # Adjusted for visibility\n",
    "    \n",
    "    # Step function for extracted signal\n",
    "    plt.step(ann_step.index, ann_step['Ann_Signal'], label='Annual Signal (Step Function)', where='post')\n",
    "    \n",
    "    # Add horizontal lines for median, f_100, and 50th percentile values\n",
    "    plt.axhline(y=base_signal, color='g', linestyle='--', label=f\"Standard Annual Signal ({std_thres}): {base_signal:.0f} {data_unit}\")\n",
    "    plt.axhline(y=f_100, color='r', linestyle='--', label=f\"100 Year Flood: {f_100:.0f} {data_unit}\")\n",
    "    plt.axhline(y=percentile_50, color='black', linestyle='--', label=f\"50th Daily Percentile: {percentile_50:.0f} {data_unit}\")\n",
    "    \n",
    "    plt.xlabel('Date')\n",
    "    plt.ylabel(f'Discharge ({data_unit})')\n",
    "    plt.title('Daily Values vs Annual Extracted Wavelet Signal')\n",
    "    plt.legend()\n",
    "    plt.show()"
   ]
  },
  {
   "cell_type": "code",
   "execution_count": 4,
   "id": "d560a9b3-e4fa-4956-9e7a-7976810bfbbf",
   "metadata": {
    "editable": true,
    "slideshow": {
     "slide_type": ""
    },
    "tags": []
   },
   "outputs": [],
   "source": [
    "def plot_violin(data, group_by_columns, y_column, title, y_label, percentile_95=None, f_100=None):\n",
    "    \"\"\"\n",
    "    Creates a violin plot for specified data aggregated by given columns.\n",
    "\n",
    "    :param data: DataFrame containing the data to plot.\n",
    "    :param group_by_columns: List of column names to group by.\n",
    "    :param y_column: The name of the column to be plotted on the y-axis.\n",
    "    :param title: The title of the plot.\n",
    "    :param y_label: The label for the y-axis.\n",
    "    :param percentile_95: Optional; the y-value at which to draw a horizontal line for the 95th percentile.\n",
    "    :param f_100: Optional; the y-value at which to draw a horizontal line for the 100-year flood.\n",
    "\n",
    "    \"\"\"\n",
    "    # Group the data and reset the index\n",
    "    grouped_data = data.groupby(group_by_columns)[y_column].mean().reset_index()\n",
    "\n",
    "    warnings.simplefilter(action='ignore', category=FutureWarning)\n",
    "    plt.figure(figsize=(10, 6))\n",
    "\n",
    "    # Create the violin plot\n",
    "    ax = sns.violinplot(x=group_by_columns[0], y=y_column, data=grouped_data)\n",
    "\n",
    "    plt.title(title)\n",
    "    plt.xlabel(group_by_columns[0])\n",
    "    plt.ylabel(y_label)\n",
    "\n",
    "    # Optionally add threshold lines\n",
    "    if percentile_95 is not None:\n",
    "        plt.axhline(y=percentile_95, color='r', linestyle='--', label='95% Daily Percentile')\n",
    "    if f_100 is not None:\n",
    "        plt.axhline(y=f_100, color='b', linestyle='--', label='Empirical CDF 100 Year Flood')\n",
    "\n",
    "    plt.xticks(rotation=45)\n",
    "\n",
    "    # Annotation adjustments\n",
    "    text_y_position = ax.get_ylim()[0] + (ax.get_ylim()[1] - ax.get_ylim()[0]) * 0.05\n",
    "    counts = grouped_data.groupby(group_by_columns[0]).size().reset_index(name='counts')\n",
    "    for i, row in counts.iterrows():\n",
    "        ax.text(i, text_y_position, str(int(row['counts'])), horizontalalignment='center', size='small', color='red', weight='semibold')\n",
    "\n",
    "    plt.tight_layout()\n",
    "    if percentile_95 is not None or f_100 is not None:\n",
    "        plt.legend()\n",
    "\n",
    "    plt.show()"
   ]
  },
  {
   "cell_type": "code",
   "execution_count": 5,
   "id": "86d00e15-351e-4658-8776-69351ebe771a",
   "metadata": {},
   "outputs": [],
   "source": [
    "def plot_storm_intensities(series, percentile_50, base_signal, f_100):\n",
    "    \"\"\"\n",
    "    Plots storm intensities over the years as a violin plot and the progression of storm intensity by day.\n",
    "\n",
    "    Parameters:\n",
    "    - series: DataFrame containing storm data, including 'year', 'intensity', 'index_storms', and 'storm_day'.\n",
    "    - percentile_50: The 50th percentile intensity value for reference in the plots.\n",
    "    - percentile_95: The 95th percentile intensity value used for y-axis limit calculation.\n",
    "    - f_100: The empirical CDF 100 year flood intensity value for reference in the plots.\n",
    "    \"\"\"\n",
    "    warnings.simplefilter(action='ignore', category=FutureWarning)\n",
    "\n",
    "    # Calculate desired y-axis limits\n",
    "    y_min = 0\n",
    "    y_max = max(series['Intensity'].max()*1.1, percentile_95, f_100)\n",
    "\n",
    "    # Setting the overall figure size\n",
    "    plt.figure(figsize=(20, 8))\n",
    "\n",
    "    # ----- Plot 1: Violin Plot -----\n",
    "    ax1 = plt.subplot(1, 2, 1)  # Create subplot 1\n",
    "    sns.violinplot(x='year', y='daily_flow', data=series, cut=0)\n",
    "\n",
    "    plt.title('Storm Intensities Over Years')\n",
    "    plt.xlabel('Year')\n",
    "    plt.ylabel('Intensity')\n",
    "    plt.axhline(y=percentile_50, color='black', linestyle='--', label='50% Daily Percentile')\n",
    "    plt.axhline(y=base_signal, color='green', linestyle='--', label='Signal Threshold')\n",
    "    plt.axhline(y=f_100, color='r', linestyle='--', label='Empirical CDF 100 Year Flood')\n",
    "    plt.xticks(rotation=45)\n",
    "    plt.legend()\n",
    "\n",
    "    # Set the same y-axis limits\n",
    "    ax1.set_ylim([y_min, y_max])\n",
    "\n",
    "    # ----- Plot 2: Line Plot -----\n",
    "    ax2 = plt.subplot(1, 2, 2)  # Create subplot 2\n",
    "    grouped = series.groupby(['year', 'storm_index'])\n",
    "    unique_years = series['year'].unique()\n",
    "    colors = plt.cm.coolwarm(np.linspace(0, 1, len(unique_years)))  # Adjust colormap as needed\n",
    "    year_color_map = dict(zip(unique_years, colors))\n",
    "\n",
    "    for (year, index_storms), group in grouped:\n",
    "        plt.plot(group['storm_day'], group['daily_flow'], color=year_color_map[year])\n",
    "\n",
    "    plt.axhline(y=percentile_50, color='black', linestyle='--')\n",
    "    plt.axhline(y=base_signal, color='green', linestyle='--')\n",
    "    plt.axhline(y=f_100, color='r', linestyle='--')\n",
    "    plt.title('Storm Intensity Progression by Day')\n",
    "    plt.xlabel('Storm Day')\n",
    "    plt.ylabel('Intensity')\n",
    "\n",
    "    custom_lines = [Line2D([0], [0], color=year_color_map[year], lw=4) for year in unique_years]\n",
    "    plt.legend(custom_lines, [f'Year {year}' for year in unique_years], loc='best', fontsize='small', title=\"Storm Years\")\n",
    "\n",
    "    # Set the same y-axis limits\n",
    "    ax2.set_ylim([y_min, y_max])\n",
    "\n",
    "    plt.tight_layout()\n",
    "    plt.show()"
   ]
  },
  {
   "cell_type": "markdown",
   "id": "78328a9b-143b-48af-91e8-0251d2e123e3",
   "metadata": {},
   "source": [
    "## Parameter Inputs"
   ]
  },
  {
   "cell_type": "code",
   "execution_count": 6,
   "id": "e9526030-dc1a-47e9-86fe-e1cab6378ae8",
   "metadata": {
    "editable": true,
    "slideshow": {
     "slide_type": ""
    },
    "tags": [
     "parameters"
    ]
   },
   "outputs": [],
   "source": [
    "# Input file information\n",
    "file_path = 'Data/Mississippi/Clinton_1873.csv'  # Define filepath for time series data\n",
    "time_var = 'datetime'  # Time variable name in source file for time series data\n",
    "var_interest = 'discharge_cfs'  # Variable of interest name in source file for time series data\n",
    "temp_data_path = 'Data/Global/global_temp_NOAA_1850.csv'  # Define filepath for historical temperature data\n",
    "ssp_data_path = 'Data/Global/ACC2_v2_Surf_Air_Temp_K.csv'  # Define filepath for ssp data\n",
    "\n",
    "# Naming and formatting\n",
    "data_type = \"Streamflow\" # Variable name in time series\n",
    "data_unit = \"cfs\" # Variable unit in time series\n",
    "data_source = \"Clinton\" # Data source, eg. Gauge/location\n",
    "run_name = \"Clinton_1873_KNN_MLE\" # Name your file output\n",
    "folder = 'Test'  # Specify desired output folder\n",
    "sns.set_theme(style = 'white') # Set theme for all plotting\n",
    "\n",
    "# Parameters\n",
    "# GENERAL\n",
    "steps = 20  # time length for forecasting, default 20 years ahead\n",
    "n_simulations = 1000 # default 1000\n",
    "\n",
    "# TREND\n",
    "trend_max_lags = 5  # Set maximum temperature lags of interest for trend extraction\n",
    "use_RF = False, 0 # choice of using regularization term by random forest variable importance and threshold to use\n",
    "\n",
    "# OSCILLATIONS\n",
    "sigtest = 'default'   # Type of wavelet sigtest 'red' or 'white', default will plot both but use red for extraction\n",
    "siglvl = 0.95  # choice of significance level for wavelet extraction, default is 0.95.\n",
    "\n",
    "# FORECAST\n",
    "forecast_model = 'default' # choice of model (\"ARIMA\", \"LSTM\", \"default\"), default \"ARIMA\".\n",
    "ssp_scenario = '4.5' # choice of SSP emissions pathway (8.5, 7.0, 4.5, 2.6, 1.9)\n",
    "\n",
    "# CLUSTERING\n",
    "std_thres = 'default'  # choice of threshold for standard exceedances (\"median\", \"mean\"), default of median.\n",
    "nonstationary_type = 'KNN' # Define nonstationary type ('KNN', 'KNN_MLE', 'scaled','stationary'). Default KNN.\n",
    "KNN_sampling = True # Decide whether to sample from KNN for final multivariate storm distribution. Default True.\n",
    "signal_dist = 'default' # Set dist to extract intensities ('Expon', 'Gamma' or 'GPD'). Default is Gamma.\n",
    "intensity_dist = 'default' # Set dist to extract intensities ('Expon', 'Gamma' or 'GPD'). Default is Gamma.\n",
    "duration_dist = 'default' # Set dist to extract durations ('Expon', 'Gamma', or 'GPD'). Default is Exponential.\n",
    "frequency_dist = 'default' # Set dist to extract frequencies ('Poisson'). Default is Poisson.\n",
    "dist_fix = True # Decide whether to fix distribution fits. If True dists are fixed to those specified, otherwise defaults on fit based on KS/Chi Squared Test.\n",
    "\n",
    "# EXPORT OPTIONS (Note that the code will always export a csv of all simulated storms)\n",
    "save_signal = False  # Save the wavelet reconstructed signal in a separate csv with residuals from historical timeseries\n",
    "save_forecast_signal = False  # Save the forecasted reconstructed signal in a separate csv\n",
    "save_summ_exceeds = True  # Save summary data on threshold exceedances (needed for validation plots across entire period of interest)\n",
    "record_dists = False  # Save the types of distributions fit during simulation\n",
    "save_params = True # Save the nonstationary parameters used\n",
    "\n",
    "# PLOT OPTIONS\n",
    "plot_raw = False\n",
    "plot_LASSO = False\n",
    "plot_transform = False\n",
    "plot_wave = False\n",
    "plot_reconstruct = False\n",
    "plot_innovations = False\n",
    "plot_BAIC = False\n",
    "plot_wave_forecasts = False\n",
    "plot_forecasts = False\n",
    "plot_traj = False\n",
    "plot_RV = False\n",
    "plot_pair = False\n",
    "plot_allsims = False\n",
    "plot_onesim = True"
   ]
  },
  {
   "cell_type": "markdown",
   "id": "ad1eed95-68a1-4ffc-a605-6463c10d2450",
   "metadata": {},
   "source": [
    "## Data load and preprocess"
   ]
  },
  {
   "cell_type": "code",
   "execution_count": 7,
   "id": "0c612ac1-5903-4301-92a5-8f4aaaccc9a3",
   "metadata": {
    "tags": []
   },
   "outputs": [],
   "source": [
    "# Load the data with explicit date parsing\n",
    "df = pd.read_csv(file_path)\n",
    "\n",
    "# Convert 'datetime' to datetime type if it's not already\n",
    "df[time_var] = pd.to_datetime(df[time_var])\n",
    "\n",
    "# Convert the index to a Datetime Index explicitly\n",
    "df.index = pd.to_datetime(df[time_var])\n",
    "\n",
    "# Resample to annual frequency and take the maximum daily\n",
    "annual_max = df[var_interest].resample('YE').max()\n",
    "\n",
    "# Extract the year from each date\n",
    "years = df[time_var].dt.year\n",
    "\n",
    "# Find the unique years\n",
    "time = np.unique(years)\n",
    "\n",
    "# Convert the series to a DataFrame\n",
    "annual_max_df = annual_max.to_frame(name='annual_max_streamflow')\n",
    "\n",
    "# Identify annual maxima\n",
    "time_series = annual_max_df['annual_max_streamflow'].values"
   ]
  },
  {
   "cell_type": "code",
   "execution_count": 8,
   "id": "99bf5700-238d-4bdb-b897-45e9d5aaa2e3",
   "metadata": {},
   "outputs": [],
   "source": [
    "# Save original statistics for dataseries\n",
    "time = np.unique(years)\n",
    "og_data = time_series\n",
    "og_mean = np.mean(time_series)\n",
    "og_std = np.std(time_series)\n",
    "lg_mean = np.mean(np.log(time_series))\n",
    "lg_std = np.std(np.log(time_series))"
   ]
  },
  {
   "cell_type": "code",
   "execution_count": 9,
   "id": "ddd6883e-14ab-4f11-bcc5-b9b68ffe4989",
   "metadata": {},
   "outputs": [
    {
     "name": "stdout",
     "output_type": "stream",
     "text": [
      "100 Year Flood: 303849.76\n",
      "20 Year Flood: 235900.00\n"
     ]
    }
   ],
   "source": [
    "# Calculate the 95th percentile of annual maximum\n",
    "ann_percentile_95 = np.percentile(time_series, 95)\n",
    "\n",
    "# Calculate the 95th Percentile of daily data\n",
    "percentile_95 = np.percentile(df[var_interest], 95)\n",
    "\n",
    "# Calculate the 95th Percentile of daily data\n",
    "percentile_50 = np.percentile(df[var_interest], 50)\n",
    "\n",
    "# Calculate 100 year flood\n",
    "f_100 = np.exp(norm.ppf(1-1/100, loc=lg_mean, scale=lg_std))\n",
    "\n",
    "print(f\"100 Year Flood: {f_100:.2f}\")\n",
    "print(f\"20 Year Flood: {ann_percentile_95:.2f}\")\n",
    "\n",
    "if plot_raw:\n",
    "    # Plot ann max time series \n",
    "    plot_annual_max_series(time, time_series, data_type, data_unit, f_100, ann_percentile_95, percentile_50)"
   ]
  },
  {
   "cell_type": "code",
   "execution_count": 10,
   "id": "c7f54b43-a05b-4d97-8db9-7d8e20f36b87",
   "metadata": {},
   "outputs": [],
   "source": [
    "# Load historical temperature data\n",
    "# Create a DataFrame with just \"year\" and \"anomaly\" columns\n",
    "temp_df = pd.read_csv(temp_data_path, skiprows=4)\n",
    "\n",
    "temp_df_selected = temp_df.iloc[:, [0, 1]]  # Correcting column selection based on actual data\n",
    "temp_df_selected.columns = ['Year', 'Anomaly']  # Renaming columns for clarity\n",
    "\n",
    "# Calculate the yearly average concentration (if not already)\n",
    "yearly_avg_concentration = temp_df_selected.groupby('Year').mean().reset_index"
   ]
  },
  {
   "cell_type": "code",
   "execution_count": 11,
   "id": "8b5b934a-ae94-4b5b-8c7c-2063878db3de",
   "metadata": {},
   "outputs": [],
   "source": [
    "# Load the SSP projected temperature data\n",
    "# Create a DataFrame with just \"year\" and \"anomaly\" columns\n",
    "ssp_df = pd.read_csv(ssp_data_path)\n",
    "\n",
    "# Specify forecast time\n",
    "forecast_time = pd.DataFrame(list(range(max(time)-trend_max_lags,max(time)+steps)), columns=['Year'])\n",
    "\n",
    "ssp_df_selected = ssp_df.iloc[:, [0, 15, 16, 17, 18, 23]]  # Correcting column selection based on actual data\n",
    "ssp_df_selected.columns = ['Year', '1.9', '2.6', '4.5', '7.0', '8.5']  # Renaming columns for clarity"
   ]
  },
  {
   "cell_type": "markdown",
   "id": "a7ed1640-2c32-40e2-bc82-0ec08067e405",
   "metadata": {},
   "source": [
    "## Trend extraction"
   ]
  },
  {
   "cell_type": "code",
   "execution_count": 12,
   "id": "3fbb1791-dfc9-45f3-9eef-b99335f79726",
   "metadata": {},
   "outputs": [],
   "source": [
    "# Fit an exponential smoother to the timeseries data for detrending\n",
    "smoothed = fit_loess_smoothing(time_series, frac =1)\n",
    "detrended = time_series - smoothed\n",
    "\n",
    "# Convert the lists into a DataFrame\n",
    "smoothed_df = pd.DataFrame({\n",
    "    \"Year\": time,\n",
    "    \"Smoothed\": smoothed,\n",
    "    \"Original_Data\": og_data\n",
    "})\n",
    "\n",
    "# Merge the two DataFrames on \"Year\" with an inner join to include only years present in both\n",
    "merged_df = pd.merge(temp_df_selected, smoothed_df, on=\"Year\", how=\"inner\")\n",
    "\n",
    "# Merge the two DataFrames on \"Year\" with an inner join to include only years present in both\n",
    "forecast_merged_df = pd.merge(forecast_time, ssp_df_selected, on=\"Year\", how=\"inner\")"
   ]
  },
  {
   "cell_type": "code",
   "execution_count": 13,
   "id": "e4a0e71c-5fe9-43ad-a767-ced3f0e94f39",
   "metadata": {},
   "outputs": [],
   "source": [
    "# Adding lags for 'Smoothed' and temp 'Anomaly' values\n",
    "v_names = ['Year', 'Anomaly']\n",
    "for i in range(1,trend_max_lags+1):\n",
    "    merged_df[f'temp_lag{i}'] = merged_df['Anomaly'].shift(i)\n",
    "    forecast_merged_df[f'temp_lag{i}'] = forecast_merged_df[ssp_scenario].shift(i)\n",
    "    v_names.append(f'temp_lag{i}')\n",
    "\n",
    "# Add column 'Anomaly' for SSP scenario of interest\n",
    "forecast_merged_df['Anomaly'] = forecast_merged_df[ssp_scenario]\n",
    "\n",
    "# Dropping rows with NaN values resulting from lagging\n",
    "merged_df.dropna(inplace=True)\n",
    "forecast_merged_df.dropna(inplace=True)\n",
    "\n",
    "# Define features and target variable\n",
    "X = merged_df[v_names]\n",
    "X_forecast = forecast_merged_df[v_names]\n",
    "y = merged_df['Smoothed']\n",
    "\n",
    "if use_RF[0]:\n",
    "    RF_thres = use_RF[1]\n",
    "    significant_vars = random_forest_analysis(X, y, v_names, trend_max_lags, var_interest, RF_thres)['Significant Variables']\n",
    "else:\n",
    "    significant_vars = v_names"
   ]
  },
  {
   "cell_type": "code",
   "execution_count": 14,
   "id": "910f9847-b2b8-49e7-9b4c-088ae48e1cd3",
   "metadata": {},
   "outputs": [
    {
     "name": "stdout",
     "output_type": "stream",
     "text": [
      "Best alpha found: 220.79870374719403\n",
      "RMSE: 3381.939714290506\n",
      "LASSO weights for each covariate:\n",
      "Year: 54.23527062949076\n",
      "Anomaly: 4696.035646799509\n",
      "temp_lag1: 649.7774829136574\n",
      "temp_lag2: 5419.729811595409\n",
      "temp_lag3: 463.74790390807584\n",
      "temp_lag4: 0.0\n",
      "temp_lag5: 281.14397544099387\n"
     ]
    }
   ],
   "source": [
    "# Check if only lag variables are significant\n",
    "only_yr_sig = all(var == 'Year' for var in significant_vars)\n",
    "\n",
    "# Extract significant variables for regression\n",
    "X_sig = X[significant_vars]\n",
    "X_forecast = X_forecast[significant_vars]\n",
    "y = merged_df['Smoothed']  # Target variable, already defined\n",
    "\n",
    "if only_yr_sig:\n",
    "    # Fit and plot simple linear regression if only time is significant\n",
    "    forecast_lin, intercept = linear_forecast(smoothed, steps, time, og_data, data_type, plot=True)\n",
    "else:\n",
    "    # Fit LASSO regression if there are multiple covariates\n",
    "    forecast_lin=perform_lasso_regression(X_sig, y, X_forecast, merged_df, data_type, data_unit, name=data_source, plot_LASSO=plot_LASSO)['predictions']"
   ]
  },
  {
   "cell_type": "markdown",
   "id": "d3eea4fe-50b6-49da-8af3-13cd223e73c4",
   "metadata": {},
   "source": [
    "## Wavelet oscillatory extraction "
   ]
  },
  {
   "cell_type": "code",
   "execution_count": 15,
   "id": "54a9b3eb-564d-41b9-b8ec-15c4e401a31e",
   "metadata": {},
   "outputs": [],
   "source": [
    "shift, time_series, lambda_boxcox = transform_data(time_series, detrended, data_type, plot=plot_transform)"
   ]
  },
  {
   "cell_type": "code",
   "execution_count": 16,
   "id": "2ab8ec16-1374-4e36-97ba-e2176b11845f",
   "metadata": {},
   "outputs": [
    {
     "name": "stdout",
     "output_type": "stream",
     "text": [
      "Red Noise AR1 Coefficient: 0.928389214767694\n"
     ]
    }
   ],
   "source": [
    "# Assuming 'wavelet', 'CI', and 'wt' functions are previously defined in Python\n",
    "warnings.filterwarnings('ignore', 'divide by zero encountered in divide', RuntimeWarning)\n",
    "wlt = wavelet(time_series)\n",
    "Cw = CI(wlt, time_series, siglvl, \"r\")\n",
    "C = CI(wlt, time_series, siglvl, \"w\")\n",
    "\n",
    "# Global Wavelet Spectrum\n",
    "plt_dataset = {\n",
    "    'Time': time,\n",
    "    'Period': wlt['period'],\n",
    "    'Avg_Power': wlt['avg_power'],\n",
    "    'Power': wlt['power'],\n",
    "    'COI': wlt['coi'],\n",
    "    'W_noise': C['sig'],\n",
    "    'R_noise': Cw['sig']\n",
    "}"
   ]
  },
  {
   "cell_type": "code",
   "execution_count": 17,
   "id": "437f39d2-399b-4f90-b342-d8ad31a187ac",
   "metadata": {},
   "outputs": [],
   "source": [
    "if plot_wave:\n",
    "    wavelet_plot(plt_dataset, siglvl, data_source, sigtest)"
   ]
  },
  {
   "cell_type": "code",
   "execution_count": 18,
   "id": "4173643d-27d7-4ff1-bf8c-b70dcb4b91c1",
   "metadata": {},
   "outputs": [
    {
     "name": "stdout",
     "output_type": "stream",
     "text": [
      "Red Noise Sig Test Results\n",
      "Significant scales:\n",
      "[ 2.    2.03  2.07  2.11  2.14  2.18  2.22  2.26  2.3   2.34  2.38  2.42\n",
      "  2.46  2.51  2.55  2.59  2.64  2.69  2.73  2.78  2.83  2.88  2.93  2.98\n",
      "  3.03  3.08  3.14  3.19  3.25  3.31  3.36  3.42  3.48  3.54  3.61  3.67\n",
      "  3.73  3.8   3.86  3.93  4.    4.07  4.14  4.21  4.29  4.36  4.44  4.52\n",
      "  4.59  4.68  4.76  4.84  4.92  5.01  5.1   5.19  5.28  5.37  5.46  5.56\n",
      "  5.66  5.76  5.86  5.96  6.06  6.17  6.28  6.39  6.5   6.61  6.73  6.84\n",
      "  6.96  7.09  7.21  7.34  7.46  7.59  7.73  7.86  8.    8.14  8.28  8.43\n",
      "  8.57  8.72  8.88  9.03  9.19  9.35  9.51  9.68  9.85 10.02 10.2  10.37\n",
      " 10.56 10.74 10.93 11.12 11.31]\n"
     ]
    }
   ],
   "source": [
    "if sigtest == 'white':\n",
    "    print(\"White Noise Sig Test Results\")\n",
    "    reconstruct, sig_scales = reconstruct(C, time_series)\n",
    "else:\n",
    "    print(\"Red Noise Sig Test Results\")\n",
    "    reconstruct, sig_scales = reconstruct(Cw, time_series)"
   ]
  },
  {
   "cell_type": "code",
   "execution_count": 19,
   "id": "4f8e9676-4e41-4900-8ffe-e2187b200359",
   "metadata": {},
   "outputs": [],
   "source": [
    "if plot_reconstruct:\n",
    "    plot_reconstructed_series(time_series, reconstruct, dates=time)\n",
    "if plot_innovations:\n",
    "    plot_distribution_of_innovations(time_series, reconstruct)"
   ]
  },
  {
   "cell_type": "markdown",
   "id": "43ad56ab-f24f-464c-a1e8-a772eb33cd7b",
   "metadata": {},
   "source": [
    "## Forecasting"
   ]
  },
  {
   "cell_type": "code",
   "execution_count": 20,
   "id": "904d90ee-d27e-487d-bdb1-5739f855a4b5",
   "metadata": {},
   "outputs": [
    {
     "name": "stdout",
     "output_type": "stream",
     "text": [
      "Model with lowest AIC: ARIMA(2, 0, 3) with AIC: 2281.873368775673\n",
      "Model with lowest BIC: ARIMA(2, 0, 3) with BIC: 2303.040532421597\n",
      "Selected model: ARIMA(2, 0, 3) with AIC: 2281.873368775673 and BIC: 2303.040532421597\n",
      "                               SARIMAX Results                                \n",
      "==============================================================================\n",
      "Dep. Variable:                      y   No. Observations:                  152\n",
      "Model:                 ARIMA(2, 0, 3)   Log Likelihood               -1133.937\n",
      "Date:                Tue, 21 May 2024   AIC                           2281.873\n",
      "Time:                        02:24:46   BIC                           2303.041\n",
      "Sample:                             0   HQIC                          2290.472\n",
      "                                - 152                                         \n",
      "Covariance Type:                  opg                                         \n",
      "==============================================================================\n",
      "                 coef    std err          z      P>|z|      [0.025      0.975]\n",
      "------------------------------------------------------------------------------\n",
      "const       2314.2667      0.309   7493.876      0.000    2313.661    2314.872\n",
      "ar.L1          1.5480      0.045     34.346      0.000       1.460       1.636\n",
      "ar.L2         -0.9255      0.038    -24.379      0.000      -1.000      -0.851\n",
      "ma.L1         -2.8085      0.124    -22.723      0.000      -3.051      -2.566\n",
      "ma.L2          2.6341      0.236     11.183      0.000       2.172       3.096\n",
      "ma.L3         -0.8230      0.113     -7.273      0.000      -1.045      -0.601\n",
      "sigma2      1.604e+05   3.96e-06   4.05e+10      0.000     1.6e+05     1.6e+05\n",
      "===================================================================================\n",
      "Ljung-Box (L1) (Q):                   2.44   Jarque-Bera (JB):                 1.38\n",
      "Prob(Q):                              0.12   Prob(JB):                         0.50\n",
      "Heteroskedasticity (H):               1.16   Skew:                             0.18\n",
      "Prob(H) (two-sided):                  0.61   Kurtosis:                         3.29\n",
      "===================================================================================\n",
      "\n",
      "Warnings:\n",
      "[1] Covariance matrix calculated using the outer product of gradients (complex-step).\n",
      "[2] Covariance matrix is singular or near-singular, with condition number 1.16e+26. Standard errors may be unstable.\n"
     ]
    }
   ],
   "source": [
    "# Suppress common warnings\n",
    "warnings.filterwarnings('ignore', category=ConvergenceWarning)\n",
    "warnings.filterwarnings(\"ignore\", message=\"Non-invertible starting MA parameters found.*\", category=UserWarning, module='statsmodels.*')\n",
    "warnings.filterwarnings(\"ignore\", message=\"Non-stationary starting autoregressive parameters found.*\", category=UserWarning, module='statsmodels.*')\n",
    "\n",
    "if forecast_model == 'LSTM':\n",
    "    # Use LSTM to forecast the reconstructed aggregate\n",
    "    forecast_LSTM, LSTM_log_mse = fit_LSTM(reconstruct, time, steps, time_series, plot=True)\n",
    "    fin_forecast = forecast_LSTM.flatten()\n",
    "else:\n",
    "    # Fit an aggregate ARMA for the reconstructed aggregate\n",
    "    sum_ARMA, forecast_params, AIC, BIC = fit_arima_model(reconstruct, plot=plot_wave_forecasts)\n",
    "    \n",
    "    # Plot and simulate time series with aggregate ARMA\n",
    "    forecasts_agg = np.empty((n_simulations, 1, steps))\n",
    "    forecasts_agg[:] = np.nan\n",
    "    \n",
    "    model = sum_ARMA\n",
    "    print(model.summary())\n",
    "    \n",
    "    for j in range(n_simulations):       \n",
    "        # Generate simulations and store in forecasts array\n",
    "        forecast = model.simulate(anchor='end', nsimulations=steps)\n",
    "        forecasts_agg[j, 0, :] = forecast\n",
    "\n",
    "    if plot_wave_forecasts:\n",
    "        plot_all_forecasts(reconstruct, forecasts_agg, time_series)\n",
    "    \n",
    "    fin_forecast = forecasts_agg[:,0,:]"
   ]
  },
  {
   "cell_type": "code",
   "execution_count": 21,
   "id": "092974a1-0cb2-4d2c-a0e1-865e52ba3ead",
   "metadata": {},
   "outputs": [],
   "source": [
    "# Now we want to reverse our transforms to reproduce a similar signal\n",
    "# First we perform inverse boxcox\n",
    "signal_ibc = inv_boxcox(reconstruct.clip(min=0), lambda_boxcox)-shift\n",
    "forecasted_agg_ibc = inv_boxcox(fin_forecast.clip(min=0), lambda_boxcox)-shift\n",
    "\n",
    "# Next we add the trend back to the data\n",
    "signal_ibc = signal_ibc + smoothed\n",
    "\n",
    "# Calculate residuals\n",
    "residuals = signal_ibc - og_data\n",
    "\n",
    "# Convert arrays to DataFrame\n",
    "reconstruct_df = pd.DataFrame({'Year': time,'Ann_Signal': signal_ibc, 'Residuals': residuals})\n",
    "\n",
    "# Save to CSV\n",
    "if save_signal:\n",
    "    reconstruct_df.to_csv(f\"{folder}/Signal_{run_name}.csv\", index=False)\n",
    "\n",
    "if forecast_model == 'LSTM':\n",
    "    forecasted_agg_ibc = forecasted_agg_ibc + forecast_lin\n",
    "    reconstruct_forecast = reconstructed_forecasts(signal_ibc, forecasted_agg_ibc, og_data, data_unit, forecast_model, run_name, folder, plot=plot_forecasts, save=save_forecast_signal)\n",
    "else:\n",
    "    for i in range(forecasted_agg_ibc.shape[0]):\n",
    "        forecasted_agg_ibc[i,:] = forecasted_agg_ibc[i,:] + forecast_lin\n",
    "    \n",
    "    # Plot sims reconsturcted with single ARMA\n",
    "    reconstruct_forecast = reconstructed_forecasts(signal_ibc, forecasted_agg_ibc, og_data, data_unit, forecast_model, run_name, folder, plot=plot_forecasts, save=save_forecast_signal)\n",
    "    if save_forecast_signal:\n",
    "        forecasted_agg_ibc.to_csv(f\"{folder}/All_ARIMA_Signal_Forecast_{run_name}.csv\", index=False)"
   ]
  },
  {
   "cell_type": "markdown",
   "id": "a2dc5295-cef1-47ad-a386-3e80a5b30478",
   "metadata": {},
   "source": [
    "## Sub-annual clustering parameterization"
   ]
  },
  {
   "cell_type": "code",
   "execution_count": 22,
   "id": "e5876452-81be-43af-be70-726b60327bda",
   "metadata": {},
   "outputs": [],
   "source": [
    "# Converting annual signal to a step function over the same period as daily values for plotting\n",
    "ann_step = df.copy()  # Assuming og_daily_data has 'datetime' as its index\n",
    "ann_step['Ann_Signal'] = np.nan  # Initialize the column\n",
    "\n",
    "# Loop over each year and signal in the annual data\n",
    "for year, signal in zip(reconstruct_df['Year'], reconstruct_df['Ann_Signal']):\n",
    "    # Correctly assign the signal to the 'Ann_Signal' column for the corresponding year\n",
    "    ann_step.loc[ann_step.index.year == year, 'Ann_Signal'] = signal\n",
    "\n",
    "# Calculate the median value of the 'Ann_Signal' column in 'ann_step'\n",
    "if std_thres == 'mean':\n",
    "    base_signal = ann_step['Ann_Signal'].mean()\n",
    "else:\n",
    "    base_signal = ann_step['Ann_Signal'].median()\n",
    "\n",
    "signal_sd = ann_step['Ann_Signal'].std()\n",
    "\n",
    "if plot_raw:\n",
    "    # Plot daily values and annual signal\n",
    "    plot_daily_values(df, var_interest, ann_step, base_signal, std_thres, f_100, percentile_50, data_unit)"
   ]
  },
  {
   "cell_type": "code",
   "execution_count": 23,
   "id": "cf5da376-c63d-4e05-8866-9099359ef496",
   "metadata": {},
   "outputs": [],
   "source": [
    "# Extract historic flood events\n",
    "result_df, multivar_signal = extract_exceedance_clusters(df, reconstruct_df, var_interest, base_signal)\n",
    "cluster_dict_std, sigma0_std = trajectory_dict_plot(df, plot_traj)\n",
    "\n",
    "if save_summ_exceeds:\n",
    "    result_df.to_csv(f\"{folder}/Standard_Summary_Exceedances_{run_name}.csv\", index=False)\n",
    "\n",
    "if plot_pair:\n",
    "    # Plot original distribution of storm signal, frequence, intensity, and duration\n",
    "    FIDS_pairplot(result_df, jitter_col=['Frequency'],columns=['Signal', 'Frequency', 'Intensity','Duration'])"
   ]
  },
  {
   "cell_type": "code",
   "execution_count": 24,
   "id": "cf7679ab-490f-495f-a8c6-573633bf186e",
   "metadata": {},
   "outputs": [
    {
     "name": "stdout",
     "output_type": "stream",
     "text": [
      "KS Test Statistic: 0.04698893695856249, p-value: 0.7906650591349518\n",
      "Fit enforced by user.\n",
      "Chi-Squared Test Statistic: 18.828475049417833, p-value: 0.0008493292292991628\n",
      "Fit enforced by user.\n",
      "KS Test Statistic: 0.07134752628092156, p-value: 0.6327839453157897\n",
      "Fit enforced by user.\n",
      "KS Test Statistic: 0.11546192988028514, p-value: 0.11234105594622383\n",
      "Fit enforced by user.\n",
      "Chi-Squared Test Statistic: 22.87843611160323, p-value: 0.1953048632502164\n",
      "Fit enforced by user.\n"
     ]
    }
   ],
   "source": [
    "# Fit univariate distributions\n",
    "if dist_fix == True:\n",
    "    dist_fix = -1\n",
    "else:\n",
    "    dist_fix = 0\n",
    "\n",
    "freq_signal_params, freq_og_signal_samples, freq_signal_dist, freq_sig_test = fit_intensity_distribution(result_df['Signal'], signal_dist, plot_RV, \"Signal\", 100, status=dist_fix) #result_df.groupby('Year')['Signal'].mean().reset_index()['Signal'][result_df['Signal'] > 0]\n",
    "freq_params, og_frequency_samples, frequency_dist, freq_test = fit_frequency_distribution(result_df['Frequency'], frequency_dist, plot_RV, \"Frequency\", 100, status=dist_fix) #result_df.groupby('Year')['Frequency'].mean().reset_index()['Frequency']\n",
    "\n",
    "signal_params, og_signal_samples, signal_dist, sig_test = fit_intensity_distribution(result_df['Signal'][result_df['Frequency'] > 0], signal_dist, plot_RV, \"Signal\", 100, status=dist_fix) #result_df.groupby('Year')['Signal'].mean().reset_index()['Signal'][result_df['Signal'] > 0]\n",
    "intensity_params, og_intensity_samples, intensity_dist, int_test = fit_intensity_distribution(result_df['Intensity'][result_df['Frequency'] > 0], intensity_dist, plot_RV, \"Intensity\", 100, status=dist_fix)\n",
    "duration_params, og_duration_samples, duration_dist, dur_test = fit_duration_distribution(result_df['Duration'][result_df['Frequency'] > 0], duration_dist, plot_RV, \"Duration\", 100, status=dist_fix)\n",
    "\n",
    "dist_params = {\n",
    "    'signal_freq': (freq_signal_params, freq_signal_dist),\n",
    "    'signal': (signal_params, signal_dist),\n",
    "    'intensity': (intensity_params, intensity_dist),\n",
    "    'duration': (duration_params, duration_dist),\n",
    "    'frequency': (freq_params, frequency_dist),\n",
    "}\n",
    "\n",
    "if forecast_model != 'LSTM':\n",
    "    forecast_model = 'ARIMA'\n",
    "\n",
    "dists = pd.DataFrame({\n",
    "    'Model_Component': list(dist_params.keys())+['Forecast_Model'],\n",
    "    'Model_Fit': [freq_signal_dist,signal_dist,intensity_dist,duration_dist,frequency_dist, forecast_model if (forecast_model == 'LSTM') else forecast_model + f'({forecast_params})'],\n",
    "    'Model_Evaluation_1': ['KS Test', 'KS Test', 'KS Test', 'Chi-Squared Test', 'Chi-Squared Test', 'Log_MSE' if (forecast_model == 'LSTM') else 'AIC'],\n",
    "    'Evaluation_Value_1': [freq_sig_test[0], sig_test[0], int_test[0], dur_test[0], freq_test[0], LSTM_log_mse if (forecast_model == 'LSTM') else AIC],\n",
    "    'Model_Evaluation_2': ['p_val', 'p_val', 'p_val', 'p_val', 'p_val', 'N/A' if (forecast_model == 'LSTM') else 'BIC'],\n",
    "    'Evaluation_Value_2': [freq_sig_test[1], sig_test[1], int_test[1], dur_test[1], freq_test[1], LSTM_log_mse if (forecast_model == 'LSTM') else BIC],\n",
    "})\n",
    "\n",
    "if record_dists:\n",
    "    dists.to_csv(f\"{folder}/Dists_{run_name}.csv\", index=False)"
   ]
  },
  {
   "cell_type": "code",
   "execution_count": 25,
   "id": "a439451f-64fa-4cef-8777-2642fb396e8d",
   "metadata": {},
   "outputs": [],
   "source": [
    "# Initialize forecasting and signal parameterization vector\n",
    "max_time = np.max(time)\n",
    "    \n",
    "# Create a 2D array for the 'year' column\n",
    "years = np.arange(1, steps + 1) + max_time  # Create list of years to forecast for\n",
    "\n",
    "# Repeat 'years' for each simulation (y times)\n",
    "year_column = np.tile(years, n_simulations)\n",
    "\n",
    "# Repeat simulation indices for each year (x times)\n",
    "sim_column = np.repeat(np.arange(n_simulations), steps)\n",
    "\n",
    "if forecast_model == 'LSTM':\n",
    "    signal_column = np.tile(fin_forecast, n_simulations)\n",
    "else:\n",
    "    # Flatten the forecasted_agg_ibc array for the 'signal' column\n",
    "    signal_column = forecasted_agg_ibc.flatten()\n",
    "    \n",
    "# Create the DataFrame\n",
    "future_signal = pd.DataFrame({\n",
    "    'year': year_column,\n",
    "    'sim': sim_column,\n",
    "    'signal': signal_column\n",
    "})"
   ]
  },
  {
   "cell_type": "code",
   "execution_count": 26,
   "id": "eb0337cb-5866-4949-9fed-823f1abaad39",
   "metadata": {},
   "outputs": [
    {
     "name": "stdout",
     "output_type": "stream",
     "text": [
      "Nonstationary Signal Parameters Derived Successfully.\n"
     ]
    }
   ],
   "source": [
    "if nonstationary_type == 'KNN':\n",
    "    future_signal = KNN(future_signal, multivar_signal)\n",
    "    dist_params['signal'] = (signal_params, 'Expon')\n",
    "    dist_params['signal_freq'] = (freq_signal_params, 'Expon')\n",
    "    dist_params['intensity'] = (intensity_params, 'Expon')\n",
    "    dist_params['duration'] = (duration_params, 'Expon')\n",
    "    print(\"Nonstationary Signal Parameters Derived Successfully.\")\n",
    "elif nonstationary_type == 'KNN_MLE':\n",
    "    future_signal = KNN_MLE(future_signal, multivar_signal)\n",
    "    dist_params['signal'] = (signal_params, 'Expon')\n",
    "    dist_params['signal_freq'] = (freq_signal_params, 'Expon')\n",
    "    dist_params['intensity'] = (intensity_params, 'Expon')\n",
    "    dist_params['duration'] = (duration_params, 'Expon')\n",
    "    print(\"Nonstationary Signal Parameters Derived Successfully.\")\n",
    "elif nonstationary_type == 'scaled':\n",
    "    min_sig = min(np.min(result_df['Signal']), np.min(future_signal['signal']))\n",
    "    max_sig = max(np.max(result_df['Signal']), np.max(future_signal['signal']))\n",
    "    scaled = (future_signal['signal'] - min_sig) / (max_sig - min_sig) + 0.5\n",
    "    future_signal['Scale_Sig'] = scaled*signal_params['scale']\n",
    "    future_signal['Scale_Int'] = scaled*intensity_params['scale']\n",
    "    future_signal['Scale_Dur'] = scaled*duration_params['scale']\n",
    "    future_signal['Scale_Freq'] = scaled*freq_params['lambda']\n",
    "    print(\"Nonstationary Signal Parameters Derived Successfully.\")\n",
    "else:\n",
    "    future_signal['Scale_Sig'] = 1*signal_params['scale']\n",
    "    future_signal['Scale_Int'] = 1*intensity_params['scale']\n",
    "    future_signal['Scale_Dur'] = 1*duration_params['scale']\n",
    "    future_signal['Scale_Freq'] = 1*freq_params['lambda']\n",
    "    print(\"Stationary Signal Parameters Derived Successfully.\")\n",
    "\n",
    "if save_params:\n",
    "    future_signal.to_csv(f\"{folder}/Params_{run_name}.csv\", index=False)"
   ]
  },
  {
   "cell_type": "markdown",
   "id": "d8162685-50f7-4e9e-b413-a22b4ed9c573",
   "metadata": {},
   "source": [
    "## Adapted Neyman-Scott Process storm generation"
   ]
  },
  {
   "cell_type": "code",
   "execution_count": 27,
   "id": "c0ce7074-ef64-47ca-8fa2-de21b7b9d350",
   "metadata": {},
   "outputs": [
    {
     "name": "stdout",
     "output_type": "stream",
     "text": [
      "Simulation 100 completed out of 1000 in 19.63 seconds.\n",
      "Simulation 200 completed out of 1000 in 39.63 seconds.\n",
      "Simulation 300 completed out of 1000 in 60.18 seconds.\n",
      "Simulation 400 completed out of 1000 in 80.53 seconds.\n",
      "Simulation 500 completed out of 1000 in 100.67 seconds.\n",
      "Simulation 600 completed out of 1000 in 121.01 seconds.\n",
      "Simulation 700 completed out of 1000 in 141.55 seconds.\n",
      "Simulation 800 completed out of 1000 in 161.06 seconds.\n",
      "Simulation 900 completed out of 1000 in 181.20 seconds.\n",
      "Simulation 1000 completed out of 1000 in 201.56 seconds.\n",
      "1000 Simulations Complete. Run time: 201.56 seconds.\n"
     ]
    }
   ],
   "source": [
    "warnings.filterwarnings('ignore')\n",
    "\n",
    "all_data = []\n",
    "start_time = tm.time()  # Record the start time before the simulation begins\n",
    "\n",
    "for sim in range(n_simulations):\n",
    "    fut_sig = future_signal[future_signal['sim'] == sim].reset_index(drop=True)\n",
    "    if forecast_model == 'LSTM':\n",
    "        FS_parent = simulate_storm_frequencies(sim, years, fut_sig, result_df, dist_params, KNN_sampling=KNN_sampling, plot_pair=False, plot_RV=False)\n",
    "    else:\n",
    "        FS_parent = simulate_storm_frequencies(sim, years, fut_sig, result_df, dist_params, KNN_sampling=KNN_sampling, plot_pair=False, plot_RV=False)\n",
    "    parent = expand_rows_based_on_frequency(FS_parent, sim)\n",
    "    FIDS_parent = simulate_storm_statistics(sim, parent, result_df, fut_sig, dist_params, KNN_sampling=KNN_sampling, plot_pair=False, plot_RV=False)\n",
    "    traj_parent = storm_trajectories(FIDS_parent, bootstrap_curve, cluster_dict_std, plot=plot_traj)\n",
    "    all_data.append(traj_parent)\n",
    "    if (sim+1) % 100 == 0:\n",
    "        end_time = tm.time()  # Record the end time after the simulation ends\n",
    "        elapsed_time = end_time - start_time  # Calculate the elapsed time\n",
    "        print(f\"Simulation {sim+1} completed out of {n_simulations} in {elapsed_time:.2f} seconds.\")\n",
    "    \n",
    "end_time = tm.time()  # Record the end time after the simulation ends\n",
    "elapsed_time = end_time - start_time  # Calculate the elapsed time\n",
    "print(f\"{n_simulations} Simulations Complete. Run time: {elapsed_time:.2f} seconds.\")\n",
    "\n",
    "# Concatenate all DataFrames in the list at once\n",
    "all_sims = pd.concat(all_data, ignore_index=True)\n",
    "\n",
    "# Convert year and sim columns to integers\n",
    "all_sims = all_sims.astype({'sim': 'int', 'year': 'int'})\n",
    "all_sims = all_sims[['sim', 'year', 'storm_index', 'unique_storm_id', 'signal', 'Frequency', 'Intensity', 'Duration', 'storm_day', 'daily_flow']]  # Reorder columns\n",
    "\n",
    "# Sort the DataFrame by 'unique_storm_id'\n",
    "all_sims = all_sims.sort_values(by='unique_storm_id')\n",
    "# Save to CSV\n",
    "all_sims.to_csv(f\"{folder}/All_Sims_{run_name}.csv\", index=False)"
   ]
  },
  {
   "cell_type": "markdown",
   "id": "c2f05c5d-d3ba-4a3e-a228-1e0d70a132bb",
   "metadata": {},
   "source": [
    "## Summary Plots"
   ]
  },
  {
   "cell_type": "code",
   "execution_count": 28,
   "id": "73919d6f-c067-48a5-8005-14b93d498dc6",
   "metadata": {},
   "outputs": [
    {
     "data": {
      "image/png": "[encoded data removed]",
      "text/plain": [
       "<Figure size 2000x800 with 2 Axes>"
      ]
     },
     "metadata": {},
     "output_type": "display_data"
    },
    {
     "name": "stdout",
     "output_type": "stream",
     "text": [
      "All Done!\n"
     ]
    }
   ],
   "source": [
    "if plot_allsims:\n",
    "    # Intensity over all sims\n",
    "    plot_violin(\n",
    "        data=all_sims, \n",
    "        group_by_columns=['year', 'sim'], \n",
    "        y_column='Intensity', \n",
    "        title='Maximum Annual Storm Intensities Over Time, All Simulations', \n",
    "        y_label='Max Annual Intensity', \n",
    "        percentile_95=percentile_95,  # Replace with your actual value\n",
    "        f_100=f_100  # Replace with your actual value\n",
    "    )\n",
    "    \n",
    "    # Duration over all sims\n",
    "    plot_violin(\n",
    "        data=all_sims, \n",
    "        group_by_columns=['year', 'sim'], \n",
    "        y_column='Duration', \n",
    "        title='Average Annual Storm Duration Over Time, All Simulations', \n",
    "        y_label='Storm Duration (Days)'\n",
    "    )\n",
    "    \n",
    "    \n",
    "    # Frequency over all sims\n",
    "    plot_violin(\n",
    "        data=all_sims, \n",
    "        group_by_columns=['year', 'sim'], \n",
    "        y_column='Frequency', \n",
    "        title='Annual Storm Frequencies Over Time, All Simulations', \n",
    "        y_label='Number of Storms'\n",
    "    )\n",
    "    \n",
    "if plot_onesim:\n",
    "    plot_storm_intensities(traj_parent, percentile_50, base_signal, f_100)\n",
    "\n",
    "print(\"All Done!\")"
   ]
  }
 ],
 "metadata": {
  "kernelspec": {
   "display_name": "Python 3 (ipykernel)",
   "language": "python",
   "name": "python3"
  },
  "language_info": {
   "codemirror_mode": {
    "name": "ipython",
    "version": 3
   },
   "file_extension": ".py",
   "mimetype": "text/x-python",
   "name": "python",
   "nbconvert_exporter": "python",
   "pygments_lexer": "ipython3",
   "version": "3.11.9"
  }
 },
 "nbformat": 4,
 "nbformat_minor": 5
}
